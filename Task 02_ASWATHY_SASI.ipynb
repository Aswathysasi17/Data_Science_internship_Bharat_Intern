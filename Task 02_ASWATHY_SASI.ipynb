{
 "cells": [
  {
   "cell_type": "markdown",
   "id": "017b3957",
   "metadata": {},
   "source": [
    "# Project 2 - Stock Market Price Prediction using LSTM\n",
    "\n",
    "## AIM\n",
    "\n",
    "we will discover and explore data from the stock market, particularly some technology stocks. We will learn how to use finance to get stock information, and visualize different aspects of it using Seaborn and Matplotlib. we will look at a few ways of analyzing the risk of a stock, based on its previous performance history. We will also be predicting future stock prices through a Long Short Term Memory (LSTM) method!"
   ]
  },
  {
   "cell_type": "markdown",
   "id": "9f2090f5",
   "metadata": {},
   "source": [
    "### About the Dataset"
   ]
  },
  {
   "cell_type": "markdown",
   "id": "862fcc47",
   "metadata": {},
   "source": [
    "About this file\n",
    "This is a Dataset for the Stock prices for the stock of Google from 2014-  2021."
   ]
  },
  {
   "cell_type": "markdown",
   "id": "3f3fa797",
   "metadata": {},
   "source": [
    "### Objective"
   ]
  },
  {
   "cell_type": "markdown",
   "id": "f7235633",
   "metadata": {},
   "source": [
    "For doing this data science internship project on Stock market price prediction of the Google dataset using LSTM. We'll follow these steps:\n",
    "\n",
    "1 Data Acquisition and Exploration\n",
    "\n",
    "2 Data Preprocessing\n",
    "\n",
    "3 Feature Engineering\n",
    "\n",
    "4 Train-Test Split\n",
    "\n",
    "5 Build and Train LSTM Model\n",
    "  Make Predictions\n",
    "\n",
    "6 Evaluate the Model\n",
    "\n",
    "7 Interpretation and Conclusion"
   ]
  },
  {
   "cell_type": "markdown",
   "id": "b01e6e98",
   "metadata": {},
   "source": [
    "## 1 Data Acquisition and Exploration"
   ]
  },
  {
   "cell_type": "code",
   "execution_count": 4,
   "id": "77e0a621",
   "metadata": {},
   "outputs": [],
   "source": [
    "import warnings\n",
    "warnings.filterwarnings('ignore')"
   ]
  },
  {
   "cell_type": "code",
   "execution_count": 5,
   "id": "3f01fca8",
   "metadata": {},
   "outputs": [],
   "source": [
    "import numpy as np\n",
    "import pandas as pd\n",
    "import matplotlib.pyplot as plt\n",
    "from sklearn.preprocessing import MinMaxScaler\n",
    "from keras.models import Sequential\n",
    "from keras.layers import LSTM, Dense\n",
    "import seaborn as sns\n"
   ]
  },
  {
   "cell_type": "code",
   "execution_count": 6,
   "id": "141a5b94",
   "metadata": {},
   "outputs": [],
   "source": [
    "df=pd.read_csv(\"C:/Users/aswat/Downloads/GOOG.csv\")\n",
    "\n"
   ]
  },
  {
   "cell_type": "markdown",
   "id": "8d546a76",
   "metadata": {},
   "source": [
    "#### EXPLORATORY DATA ANALYSIS"
   ]
  },
  {
   "cell_type": "code",
   "execution_count": 7,
   "id": "14d2fa6a",
   "metadata": {},
   "outputs": [
    {
     "data": {
      "text/html": [
       "<div>\n",
       "<style scoped>\n",
       "    .dataframe tbody tr th:only-of-type {\n",
       "        vertical-align: middle;\n",
       "    }\n",
       "\n",
       "    .dataframe tbody tr th {\n",
       "        vertical-align: top;\n",
       "    }\n",
       "\n",
       "    .dataframe thead th {\n",
       "        text-align: right;\n",
       "    }\n",
       "</style>\n",
       "<table border=\"1\" class=\"dataframe\">\n",
       "  <thead>\n",
       "    <tr style=\"text-align: right;\">\n",
       "      <th></th>\n",
       "      <th>symbol</th>\n",
       "      <th>date</th>\n",
       "      <th>close</th>\n",
       "      <th>high</th>\n",
       "      <th>low</th>\n",
       "      <th>open</th>\n",
       "      <th>volume</th>\n",
       "      <th>adjClose</th>\n",
       "      <th>adjHigh</th>\n",
       "      <th>adjLow</th>\n",
       "      <th>adjOpen</th>\n",
       "      <th>adjVolume</th>\n",
       "      <th>divCash</th>\n",
       "      <th>splitFactor</th>\n",
       "    </tr>\n",
       "  </thead>\n",
       "  <tbody>\n",
       "    <tr>\n",
       "      <th>0</th>\n",
       "      <td>GOOG</td>\n",
       "      <td>2016-06-14 00:00:00+00:00</td>\n",
       "      <td>718.27</td>\n",
       "      <td>722.47</td>\n",
       "      <td>713.1200</td>\n",
       "      <td>716.48</td>\n",
       "      <td>1306065</td>\n",
       "      <td>718.27</td>\n",
       "      <td>722.47</td>\n",
       "      <td>713.1200</td>\n",
       "      <td>716.48</td>\n",
       "      <td>1306065</td>\n",
       "      <td>0.0</td>\n",
       "      <td>1.0</td>\n",
       "    </tr>\n",
       "    <tr>\n",
       "      <th>1</th>\n",
       "      <td>GOOG</td>\n",
       "      <td>2016-06-15 00:00:00+00:00</td>\n",
       "      <td>718.92</td>\n",
       "      <td>722.98</td>\n",
       "      <td>717.3100</td>\n",
       "      <td>719.00</td>\n",
       "      <td>1214517</td>\n",
       "      <td>718.92</td>\n",
       "      <td>722.98</td>\n",
       "      <td>717.3100</td>\n",
       "      <td>719.00</td>\n",
       "      <td>1214517</td>\n",
       "      <td>0.0</td>\n",
       "      <td>1.0</td>\n",
       "    </tr>\n",
       "    <tr>\n",
       "      <th>2</th>\n",
       "      <td>GOOG</td>\n",
       "      <td>2016-06-16 00:00:00+00:00</td>\n",
       "      <td>710.36</td>\n",
       "      <td>716.65</td>\n",
       "      <td>703.2600</td>\n",
       "      <td>714.91</td>\n",
       "      <td>1982471</td>\n",
       "      <td>710.36</td>\n",
       "      <td>716.65</td>\n",
       "      <td>703.2600</td>\n",
       "      <td>714.91</td>\n",
       "      <td>1982471</td>\n",
       "      <td>0.0</td>\n",
       "      <td>1.0</td>\n",
       "    </tr>\n",
       "    <tr>\n",
       "      <th>3</th>\n",
       "      <td>GOOG</td>\n",
       "      <td>2016-06-17 00:00:00+00:00</td>\n",
       "      <td>691.72</td>\n",
       "      <td>708.82</td>\n",
       "      <td>688.4515</td>\n",
       "      <td>708.65</td>\n",
       "      <td>3402357</td>\n",
       "      <td>691.72</td>\n",
       "      <td>708.82</td>\n",
       "      <td>688.4515</td>\n",
       "      <td>708.65</td>\n",
       "      <td>3402357</td>\n",
       "      <td>0.0</td>\n",
       "      <td>1.0</td>\n",
       "    </tr>\n",
       "    <tr>\n",
       "      <th>4</th>\n",
       "      <td>GOOG</td>\n",
       "      <td>2016-06-20 00:00:00+00:00</td>\n",
       "      <td>693.71</td>\n",
       "      <td>702.48</td>\n",
       "      <td>693.4100</td>\n",
       "      <td>698.77</td>\n",
       "      <td>2082538</td>\n",
       "      <td>693.71</td>\n",
       "      <td>702.48</td>\n",
       "      <td>693.4100</td>\n",
       "      <td>698.77</td>\n",
       "      <td>2082538</td>\n",
       "      <td>0.0</td>\n",
       "      <td>1.0</td>\n",
       "    </tr>\n",
       "  </tbody>\n",
       "</table>\n",
       "</div>"
      ],
      "text/plain": [
       "  symbol                       date   close    high       low    open  \\\n",
       "0   GOOG  2016-06-14 00:00:00+00:00  718.27  722.47  713.1200  716.48   \n",
       "1   GOOG  2016-06-15 00:00:00+00:00  718.92  722.98  717.3100  719.00   \n",
       "2   GOOG  2016-06-16 00:00:00+00:00  710.36  716.65  703.2600  714.91   \n",
       "3   GOOG  2016-06-17 00:00:00+00:00  691.72  708.82  688.4515  708.65   \n",
       "4   GOOG  2016-06-20 00:00:00+00:00  693.71  702.48  693.4100  698.77   \n",
       "\n",
       "    volume  adjClose  adjHigh    adjLow  adjOpen  adjVolume  divCash  \\\n",
       "0  1306065    718.27   722.47  713.1200   716.48    1306065      0.0   \n",
       "1  1214517    718.92   722.98  717.3100   719.00    1214517      0.0   \n",
       "2  1982471    710.36   716.65  703.2600   714.91    1982471      0.0   \n",
       "3  3402357    691.72   708.82  688.4515   708.65    3402357      0.0   \n",
       "4  2082538    693.71   702.48  693.4100   698.77    2082538      0.0   \n",
       "\n",
       "   splitFactor  \n",
       "0          1.0  \n",
       "1          1.0  \n",
       "2          1.0  \n",
       "3          1.0  \n",
       "4          1.0  "
      ]
     },
     "execution_count": 7,
     "metadata": {},
     "output_type": "execute_result"
    }
   ],
   "source": [
    "df.head()"
   ]
  },
  {
   "cell_type": "code",
   "execution_count": 8,
   "id": "90097824",
   "metadata": {
    "scrolled": true
   },
   "outputs": [
    {
     "data": {
      "text/plain": [
       "symbol         0\n",
       "date           0\n",
       "close          0\n",
       "high           0\n",
       "low            0\n",
       "open           0\n",
       "volume         0\n",
       "adjClose       0\n",
       "adjHigh        0\n",
       "adjLow         0\n",
       "adjOpen        0\n",
       "adjVolume      0\n",
       "divCash        0\n",
       "splitFactor    0\n",
       "dtype: int64"
      ]
     },
     "execution_count": 8,
     "metadata": {},
     "output_type": "execute_result"
    }
   ],
   "source": [
    "df.isnull().sum()"
   ]
  },
  {
   "cell_type": "markdown",
   "id": "fe012d0f",
   "metadata": {},
   "source": [
    "There are no missing values"
   ]
  },
  {
   "cell_type": "code",
   "execution_count": 9,
   "id": "69c338e4",
   "metadata": {},
   "outputs": [
    {
     "data": {
      "text/plain": [
       "(1258, 14)"
      ]
     },
     "execution_count": 9,
     "metadata": {},
     "output_type": "execute_result"
    }
   ],
   "source": [
    "df.shape"
   ]
  },
  {
   "cell_type": "code",
   "execution_count": 10,
   "id": "d24e722f",
   "metadata": {},
   "outputs": [
    {
     "name": "stdout",
     "output_type": "stream",
     "text": [
      "<class 'pandas.core.frame.DataFrame'>\n",
      "RangeIndex: 1258 entries, 0 to 1257\n",
      "Data columns (total 14 columns):\n",
      " #   Column       Non-Null Count  Dtype  \n",
      "---  ------       --------------  -----  \n",
      " 0   symbol       1258 non-null   object \n",
      " 1   date         1258 non-null   object \n",
      " 2   close        1258 non-null   float64\n",
      " 3   high         1258 non-null   float64\n",
      " 4   low          1258 non-null   float64\n",
      " 5   open         1258 non-null   float64\n",
      " 6   volume       1258 non-null   int64  \n",
      " 7   adjClose     1258 non-null   float64\n",
      " 8   adjHigh      1258 non-null   float64\n",
      " 9   adjLow       1258 non-null   float64\n",
      " 10  adjOpen      1258 non-null   float64\n",
      " 11  adjVolume    1258 non-null   int64  \n",
      " 12  divCash      1258 non-null   float64\n",
      " 13  splitFactor  1258 non-null   float64\n",
      "dtypes: float64(10), int64(2), object(2)\n",
      "memory usage: 137.7+ KB\n"
     ]
    }
   ],
   "source": [
    "df.info()"
   ]
  },
  {
   "cell_type": "code",
   "execution_count": 11,
   "id": "eaec3ba6",
   "metadata": {
    "scrolled": false
   },
   "outputs": [
    {
     "data": {
      "text/html": [
       "<div>\n",
       "<style scoped>\n",
       "    .dataframe tbody tr th:only-of-type {\n",
       "        vertical-align: middle;\n",
       "    }\n",
       "\n",
       "    .dataframe tbody tr th {\n",
       "        vertical-align: top;\n",
       "    }\n",
       "\n",
       "    .dataframe thead th {\n",
       "        text-align: right;\n",
       "    }\n",
       "</style>\n",
       "<table border=\"1\" class=\"dataframe\">\n",
       "  <thead>\n",
       "    <tr style=\"text-align: right;\">\n",
       "      <th></th>\n",
       "      <th>close</th>\n",
       "      <th>high</th>\n",
       "      <th>low</th>\n",
       "      <th>open</th>\n",
       "      <th>volume</th>\n",
       "      <th>adjClose</th>\n",
       "      <th>adjHigh</th>\n",
       "      <th>adjLow</th>\n",
       "      <th>adjOpen</th>\n",
       "      <th>adjVolume</th>\n",
       "      <th>divCash</th>\n",
       "      <th>splitFactor</th>\n",
       "    </tr>\n",
       "  </thead>\n",
       "  <tbody>\n",
       "    <tr>\n",
       "      <th>count</th>\n",
       "      <td>1258.000000</td>\n",
       "      <td>1258.000000</td>\n",
       "      <td>1258.000000</td>\n",
       "      <td>1258.000000</td>\n",
       "      <td>1.258000e+03</td>\n",
       "      <td>1258.000000</td>\n",
       "      <td>1258.000000</td>\n",
       "      <td>1258.000000</td>\n",
       "      <td>1258.000000</td>\n",
       "      <td>1.258000e+03</td>\n",
       "      <td>1258.0</td>\n",
       "      <td>1258.0</td>\n",
       "    </tr>\n",
       "    <tr>\n",
       "      <th>mean</th>\n",
       "      <td>1216.317067</td>\n",
       "      <td>1227.430934</td>\n",
       "      <td>1204.176430</td>\n",
       "      <td>1215.260779</td>\n",
       "      <td>1.601590e+06</td>\n",
       "      <td>1216.317067</td>\n",
       "      <td>1227.430936</td>\n",
       "      <td>1204.176436</td>\n",
       "      <td>1215.260779</td>\n",
       "      <td>1.601590e+06</td>\n",
       "      <td>0.0</td>\n",
       "      <td>1.0</td>\n",
       "    </tr>\n",
       "    <tr>\n",
       "      <th>std</th>\n",
       "      <td>383.333358</td>\n",
       "      <td>387.570872</td>\n",
       "      <td>378.777094</td>\n",
       "      <td>382.446995</td>\n",
       "      <td>6.960172e+05</td>\n",
       "      <td>383.333358</td>\n",
       "      <td>387.570873</td>\n",
       "      <td>378.777099</td>\n",
       "      <td>382.446995</td>\n",
       "      <td>6.960172e+05</td>\n",
       "      <td>0.0</td>\n",
       "      <td>0.0</td>\n",
       "    </tr>\n",
       "    <tr>\n",
       "      <th>min</th>\n",
       "      <td>668.260000</td>\n",
       "      <td>672.300000</td>\n",
       "      <td>663.284000</td>\n",
       "      <td>671.000000</td>\n",
       "      <td>3.467530e+05</td>\n",
       "      <td>668.260000</td>\n",
       "      <td>672.300000</td>\n",
       "      <td>663.284000</td>\n",
       "      <td>671.000000</td>\n",
       "      <td>3.467530e+05</td>\n",
       "      <td>0.0</td>\n",
       "      <td>1.0</td>\n",
       "    </tr>\n",
       "    <tr>\n",
       "      <th>25%</th>\n",
       "      <td>960.802500</td>\n",
       "      <td>968.757500</td>\n",
       "      <td>952.182500</td>\n",
       "      <td>959.005000</td>\n",
       "      <td>1.173522e+06</td>\n",
       "      <td>960.802500</td>\n",
       "      <td>968.757500</td>\n",
       "      <td>952.182500</td>\n",
       "      <td>959.005000</td>\n",
       "      <td>1.173522e+06</td>\n",
       "      <td>0.0</td>\n",
       "      <td>1.0</td>\n",
       "    </tr>\n",
       "    <tr>\n",
       "      <th>50%</th>\n",
       "      <td>1132.460000</td>\n",
       "      <td>1143.935000</td>\n",
       "      <td>1117.915000</td>\n",
       "      <td>1131.150000</td>\n",
       "      <td>1.412588e+06</td>\n",
       "      <td>1132.460000</td>\n",
       "      <td>1143.935000</td>\n",
       "      <td>1117.915000</td>\n",
       "      <td>1131.150000</td>\n",
       "      <td>1.412588e+06</td>\n",
       "      <td>0.0</td>\n",
       "      <td>1.0</td>\n",
       "    </tr>\n",
       "    <tr>\n",
       "      <th>75%</th>\n",
       "      <td>1360.595000</td>\n",
       "      <td>1374.345000</td>\n",
       "      <td>1348.557500</td>\n",
       "      <td>1361.075000</td>\n",
       "      <td>1.812156e+06</td>\n",
       "      <td>1360.595000</td>\n",
       "      <td>1374.345000</td>\n",
       "      <td>1348.557500</td>\n",
       "      <td>1361.075000</td>\n",
       "      <td>1.812156e+06</td>\n",
       "      <td>0.0</td>\n",
       "      <td>1.0</td>\n",
       "    </tr>\n",
       "    <tr>\n",
       "      <th>max</th>\n",
       "      <td>2521.600000</td>\n",
       "      <td>2526.990000</td>\n",
       "      <td>2498.290000</td>\n",
       "      <td>2524.920000</td>\n",
       "      <td>6.207027e+06</td>\n",
       "      <td>2521.600000</td>\n",
       "      <td>2526.990000</td>\n",
       "      <td>2498.290000</td>\n",
       "      <td>2524.920000</td>\n",
       "      <td>6.207027e+06</td>\n",
       "      <td>0.0</td>\n",
       "      <td>1.0</td>\n",
       "    </tr>\n",
       "  </tbody>\n",
       "</table>\n",
       "</div>"
      ],
      "text/plain": [
       "             close         high          low         open        volume  \\\n",
       "count  1258.000000  1258.000000  1258.000000  1258.000000  1.258000e+03   \n",
       "mean   1216.317067  1227.430934  1204.176430  1215.260779  1.601590e+06   \n",
       "std     383.333358   387.570872   378.777094   382.446995  6.960172e+05   \n",
       "min     668.260000   672.300000   663.284000   671.000000  3.467530e+05   \n",
       "25%     960.802500   968.757500   952.182500   959.005000  1.173522e+06   \n",
       "50%    1132.460000  1143.935000  1117.915000  1131.150000  1.412588e+06   \n",
       "75%    1360.595000  1374.345000  1348.557500  1361.075000  1.812156e+06   \n",
       "max    2521.600000  2526.990000  2498.290000  2524.920000  6.207027e+06   \n",
       "\n",
       "          adjClose      adjHigh       adjLow      adjOpen     adjVolume  \\\n",
       "count  1258.000000  1258.000000  1258.000000  1258.000000  1.258000e+03   \n",
       "mean   1216.317067  1227.430936  1204.176436  1215.260779  1.601590e+06   \n",
       "std     383.333358   387.570873   378.777099   382.446995  6.960172e+05   \n",
       "min     668.260000   672.300000   663.284000   671.000000  3.467530e+05   \n",
       "25%     960.802500   968.757500   952.182500   959.005000  1.173522e+06   \n",
       "50%    1132.460000  1143.935000  1117.915000  1131.150000  1.412588e+06   \n",
       "75%    1360.595000  1374.345000  1348.557500  1361.075000  1.812156e+06   \n",
       "max    2521.600000  2526.990000  2498.290000  2524.920000  6.207027e+06   \n",
       "\n",
       "       divCash  splitFactor  \n",
       "count   1258.0       1258.0  \n",
       "mean       0.0          1.0  \n",
       "std        0.0          0.0  \n",
       "min        0.0          1.0  \n",
       "25%        0.0          1.0  \n",
       "50%        0.0          1.0  \n",
       "75%        0.0          1.0  \n",
       "max        0.0          1.0  "
      ]
     },
     "execution_count": 11,
     "metadata": {},
     "output_type": "execute_result"
    }
   ],
   "source": [
    "#describing the data of integer column\n",
    "num_col = df.select_dtypes(['float64','int64'])\n",
    "num_col.describe()"
   ]
  },
  {
   "cell_type": "code",
   "execution_count": 13,
   "id": "6bd395b1",
   "metadata": {},
   "outputs": [
    {
     "data": {
      "text/html": [
       "<div>\n",
       "<style scoped>\n",
       "    .dataframe tbody tr th:only-of-type {\n",
       "        vertical-align: middle;\n",
       "    }\n",
       "\n",
       "    .dataframe tbody tr th {\n",
       "        vertical-align: top;\n",
       "    }\n",
       "\n",
       "    .dataframe thead th {\n",
       "        text-align: right;\n",
       "    }\n",
       "</style>\n",
       "<table border=\"1\" class=\"dataframe\">\n",
       "  <thead>\n",
       "    <tr style=\"text-align: right;\">\n",
       "      <th></th>\n",
       "      <th>open</th>\n",
       "      <th>close</th>\n",
       "    </tr>\n",
       "    <tr>\n",
       "      <th>date</th>\n",
       "      <th></th>\n",
       "      <th></th>\n",
       "    </tr>\n",
       "  </thead>\n",
       "  <tbody>\n",
       "    <tr>\n",
       "      <th>2016-06-14</th>\n",
       "      <td>716.48</td>\n",
       "      <td>718.27</td>\n",
       "    </tr>\n",
       "    <tr>\n",
       "      <th>2016-06-15</th>\n",
       "      <td>719.00</td>\n",
       "      <td>718.92</td>\n",
       "    </tr>\n",
       "    <tr>\n",
       "      <th>2016-06-16</th>\n",
       "      <td>714.91</td>\n",
       "      <td>710.36</td>\n",
       "    </tr>\n",
       "    <tr>\n",
       "      <th>2016-06-17</th>\n",
       "      <td>708.65</td>\n",
       "      <td>691.72</td>\n",
       "    </tr>\n",
       "    <tr>\n",
       "      <th>2016-06-20</th>\n",
       "      <td>698.77</td>\n",
       "      <td>693.71</td>\n",
       "    </tr>\n",
       "  </tbody>\n",
       "</table>\n",
       "</div>"
      ],
      "text/plain": [
       "              open   close\n",
       "date                      \n",
       "2016-06-14  716.48  718.27\n",
       "2016-06-15  719.00  718.92\n",
       "2016-06-16  714.91  710.36\n",
       "2016-06-17  708.65  691.72\n",
       "2016-06-20  698.77  693.71"
      ]
     },
     "execution_count": 13,
     "metadata": {},
     "output_type": "execute_result"
    }
   ],
   "source": [
    "df = df[['date','open','close']] # Extracting required columns\n",
    "df['date'] = pd.to_datetime(df['date'].apply(lambda x: x.split()[0])) # Selecting only date\n",
    "df.set_index('date',drop=True,inplace=True) # Setting date column as index\n",
    "df.head()"
   ]
  },
  {
   "cell_type": "code",
   "execution_count": 14,
   "id": "13b52062",
   "metadata": {
    "scrolled": true
   },
   "outputs": [
    {
     "data": {
      "text/html": [
       "<div>\n",
       "<style scoped>\n",
       "    .dataframe tbody tr th:only-of-type {\n",
       "        vertical-align: middle;\n",
       "    }\n",
       "\n",
       "    .dataframe tbody tr th {\n",
       "        vertical-align: top;\n",
       "    }\n",
       "\n",
       "    .dataframe thead th {\n",
       "        text-align: right;\n",
       "    }\n",
       "</style>\n",
       "<table border=\"1\" class=\"dataframe\">\n",
       "  <thead>\n",
       "    <tr style=\"text-align: right;\">\n",
       "      <th></th>\n",
       "      <th>open</th>\n",
       "      <th>close</th>\n",
       "    </tr>\n",
       "  </thead>\n",
       "  <tbody>\n",
       "    <tr>\n",
       "      <th>open</th>\n",
       "      <td>1.000000</td>\n",
       "      <td>0.999083</td>\n",
       "    </tr>\n",
       "    <tr>\n",
       "      <th>close</th>\n",
       "      <td>0.999083</td>\n",
       "      <td>1.000000</td>\n",
       "    </tr>\n",
       "  </tbody>\n",
       "</table>\n",
       "</div>"
      ],
      "text/plain": [
       "           open     close\n",
       "open   1.000000  0.999083\n",
       "close  0.999083  1.000000"
      ]
     },
     "execution_count": 14,
     "metadata": {},
     "output_type": "execute_result"
    }
   ],
   "source": [
    "df.corr()"
   ]
  },
  {
   "cell_type": "markdown",
   "id": "e6f1708b",
   "metadata": {},
   "source": [
    "#### INSIGHT\n",
    "The correlation coefficient between \"open\" and \"close\" is approximately 0.999083. This value is very close to 1, indicating a strong positive correlation between the \"open\" and \"close\" variables. It suggests that as the opening price of the stock increases, the closing price also tends to increase, and vice versa.\n",
    "\n",
    "The correlation coefficient between \"open\" and \"open\" (which is just 1) indicates a perfect positive correlation, as expected. Similarly, the correlation coefficient between \"close\" and \"close\" (also 1) indicates a perfect positive correlation."
   ]
  },
  {
   "cell_type": "markdown",
   "id": "8579373a",
   "metadata": {},
   "source": [
    "### Visualizing the data"
   ]
  },
  {
   "cell_type": "markdown",
   "id": "152050da",
   "metadata": {},
   "source": [
    "##### Closing price\n",
    "The last price at which the stock is exchanged during a standard trading day is known as the closing price. The common benchmark used by investors to monitor a stock's performance over time is its closing price."
   ]
  },
  {
   "cell_type": "code",
   "execution_count": 16,
   "id": "dc1b75fc",
   "metadata": {},
   "outputs": [],
   "source": [
    "# Extract the 'Close' column, which will be used for prediction\n",
    "data = df['close'].values.reshape(-1, 1)"
   ]
  },
  {
   "cell_type": "code",
   "execution_count": 31,
   "id": "7fed314b",
   "metadata": {
    "scrolled": true
   },
   "outputs": [
    {
     "data": {
      "image/png": "[encoded data removed]",
      "text/plain": [
       "<Figure size 1440x504 with 2 Axes>"
      ]
     },
     "metadata": {
      "needs_background": "light"
     },
     "output_type": "display_data"
    }
   ],
   "source": [
    "fg, ax =plt.subplots(1,2,figsize=(20,7))\n",
    "ax[0].plot(df['open'],label='Open',color='green')\n",
    "ax[0].set_xlabel('Date',size=15)\n",
    "ax[0].set_ylabel('Price',size=15)\n",
    "ax[0].legend()\n",
    "\n",
    "ax[1].plot(df['close'],label='Close',color='red')\n",
    "ax[1].set_xlabel('Date',size=15)\n",
    "ax[1].set_ylabel('Price',size=15)\n",
    "ax[1].legend()\n",
    "\n",
    "fg.show()\n"
   ]
  },
  {
   "cell_type": "markdown",
   "id": "4f20c963",
   "metadata": {},
   "source": [
    "#### Insight\n",
    "The plot displays the closing and open prices of Google stock over time. The x-axis represents the dates when the stock market data was recorded, and the y-axis represents the corresponding closing and open prices of google stock. The blue line connects the closing prices at different dates, forming a continuous line plot.And the red line connects the opening prices at different dates, forming a continuous line plot.\n",
    "\n"
   ]
  },
  {
   "cell_type": "code",
   "execution_count": 32,
   "id": "5448196e",
   "metadata": {},
   "outputs": [
    {
     "data": {
      "text/plain": [
       "Index(['open', 'close'], dtype='object')"
      ]
     },
     "execution_count": 32,
     "metadata": {},
     "output_type": "execute_result"
    }
   ],
   "source": [
    "df.columns"
   ]
  },
  {
   "cell_type": "code",
   "execution_count": 33,
   "id": "fd258678",
   "metadata": {},
   "outputs": [
    {
     "data": {
      "text/plain": [
       "<function matplotlib.pyplot.show(close=None, block=None)>"
      ]
     },
     "execution_count": 33,
     "metadata": {},
     "output_type": "execute_result"
    },
    {
     "data": {
      "image/png": "[encoded data removed]",
      "text/plain": [
       "<Figure size 432x288 with 2 Axes>"
      ]
     },
     "metadata": {
      "needs_background": "light"
     },
     "output_type": "display_data"
    }
   ],
   "source": [
    "sns.heatmap(df.corr(),annot=True)\n",
    "plt.show"
   ]
  },
  {
   "cell_type": "code",
   "execution_count": 34,
   "id": "add160c9",
   "metadata": {},
   "outputs": [
    {
     "data": {
      "text/plain": [
       "<seaborn.axisgrid.PairGrid at 0x1153f12a1f0>"
      ]
     },
     "execution_count": 34,
     "metadata": {},
     "output_type": "execute_result"
    },
    {
     "data": {
      "image/png": "[encoded data removed]",
      "text/plain": [
       "<Figure size 360x360 with 6 Axes>"
      ]
     },
     "metadata": {
      "needs_background": "light"
     },
     "output_type": "display_data"
    }
   ],
   "source": [
    "sns.pairplot(df)"
   ]
  },
  {
   "cell_type": "code",
   "execution_count": 35,
   "id": "7073c58c",
   "metadata": {},
   "outputs": [
    {
     "data": {
      "text/plain": [
       "<Figure size 576x432 with 0 Axes>"
      ]
     },
     "metadata": {},
     "output_type": "display_data"
    },
    {
     "data": {
      "image/png": "[encoded data removed]",
      "text/plain": [
       "<Figure size 360x360 with 1 Axes>"
      ]
     },
     "metadata": {
      "needs_background": "light"
     },
     "output_type": "display_data"
    }
   ],
   "source": [
    "# Plot a distribution plot for the 'Close' price\n",
    "plt.figure(figsize=(8, 6))\n",
    "sns.displot(df['close'], kde=True, color='blue')\n",
    "plt.xlabel('Close Price')\n",
    "plt.ylabel('Frequency')\n",
    "plt.title('Distribution Plot of google Stock Close Price')\n",
    "plt.show()"
   ]
  },
  {
   "cell_type": "markdown",
   "id": "eafe24e9",
   "metadata": {},
   "source": [
    "The histogram resembles a symmetric or bell-shaped curve, it suggests a normal distribution.The location of the peak or highest bar represents the central tendency of the data. For a symmetric distribution, the peak coincides with the mean."
   ]
  },
  {
   "cell_type": "code",
   "execution_count": 36,
   "id": "a61fdc7d",
   "metadata": {},
   "outputs": [
    {
     "data": {
      "text/plain": [
       "<Figure size 576x432 with 0 Axes>"
      ]
     },
     "metadata": {},
     "output_type": "display_data"
    },
    {
     "data": {
      "image/png": "[encoded data removed]",
      "text/plain": [
       "<Figure size 360x360 with 1 Axes>"
      ]
     },
     "metadata": {
      "needs_background": "light"
     },
     "output_type": "display_data"
    }
   ],
   "source": [
    "# Plot a distribution plot for the 'open' price\n",
    "plt.figure(figsize=(8, 6))\n",
    "sns.displot(df['open'], kde=True, color='red')\n",
    "plt.xlabel('open Price')\n",
    "plt.ylabel('Frequency')\n",
    "plt.title('Distribution Plot of google Stock open Price')\n",
    "plt.show()"
   ]
  },
  {
   "cell_type": "markdown",
   "id": "6e2422a5",
   "metadata": {},
   "source": [
    "The histogram resembles a symmetric or bell-shaped curve, it suggests a normal distribution.The location of the peak or highest bar represents the central tendency of the data. For a symmetric distribution, the peak coincides with the mean."
   ]
  },
  {
   "cell_type": "markdown",
   "id": "665980dd",
   "metadata": {},
   "source": [
    "## 2. Data Preprocessing\n",
    "\n",
    "**Outlier detection** is an essential step in data preprocessing to identify and handle any unusual data points that may negatively impact the performance of the model. Boxplot is a useful visualization tool for detecting outliers in the dataset. Let's go through the outlier detection process for the Netflix stock price prediction dataset using a boxplot."
   ]
  },
  {
   "cell_type": "code",
   "execution_count": 37,
   "id": "8e2b126a",
   "metadata": {
    "scrolled": true
   },
   "outputs": [
    {
     "data": {
      "image/png": "[encoded data removed]",
      "text/plain": [
       "<Figure size 576x432 with 1 Axes>"
      ]
     },
     "metadata": {
      "needs_background": "light"
     },
     "output_type": "display_data"
    }
   ],
   "source": [
    "# Create a boxplot to visualize the distribution of the 'Close' price\n",
    "plt.figure(figsize=(8, 6))\n",
    "plt.boxplot(df['close'])\n",
    "plt.xlabel('Close Price')\n",
    "plt.ylabel('Price')\n",
    "plt.title('Boxplot of google Stock Close Price')\n",
    "plt.show()"
   ]
  },
  {
   "cell_type": "markdown",
   "id": "715d2d2a",
   "metadata": {},
   "source": [
    "#### INSIGHT\n",
    "\n",
    "There are are outliers\n",
    "\n",
    "\n",
    "* Handling outliers"
   ]
  },
  {
   "cell_type": "code",
   "execution_count": 52,
   "id": "d612d8df",
   "metadata": {},
   "outputs": [
    {
     "name": "stdout",
     "output_type": "stream",
     "text": [
      "942.95\n",
      "1113.725\n",
      "1264.125\n",
      "621.7750000000001\n",
      "1585.3\n"
     ]
    }
   ],
   "source": [
    "Q1=np.percentile(df['close'],25,interpolation='midpoint')\n",
    "Q2=np.percentile(df['close'],50,interpolation='midpoint')\n",
    "Q3=np.percentile(df['close'],75,interpolation='midpoint')\n",
    "print(Q1)\n",
    "print(Q2)\n",
    "print(Q3)\n",
    "IQR=Q3-Q1\n",
    "low_lim=Q1-1.0*IQR\n",
    "up_lim=Q3+1.0*IQR\n",
    "print(low_lim)\n",
    "print(up_lim)"
   ]
  },
  {
   "cell_type": "code",
   "execution_count": 53,
   "id": "e80ae0bd",
   "metadata": {},
   "outputs": [
    {
     "data": {
      "text/plain": [
       "[1588.2,\n",
       " 1608.22,\n",
       " 1652.38,\n",
       " 1634.33,\n",
       " 1644.41,\n",
       " 1634.18,\n",
       " 1660.71,\n",
       " 1728.28,\n",
       " 1641.84,\n",
       " 1591.04,\n",
       " 1593.31,\n",
       " 1615.33,\n",
       " 1641.0,\n",
       " 1590.45,\n",
       " 1604.26,\n",
       " 1621.01,\n",
       " 1626.03,\n",
       " 1650.21,\n",
       " 1749.13,\n",
       " 1763.37,\n",
       " 1761.75,\n",
       " 1763.0,\n",
       " 1740.39,\n",
       " 1752.71,\n",
       " 1749.84,\n",
       " 1777.02,\n",
       " 1781.38,\n",
       " 1770.15,\n",
       " 1746.78,\n",
       " 1763.92,\n",
       " 1742.19,\n",
       " 1734.86,\n",
       " 1768.88,\n",
       " 1771.43,\n",
       " 1793.19,\n",
       " 1760.74,\n",
       " 1798.1,\n",
       " 1827.95,\n",
       " 1826.77,\n",
       " 1827.99,\n",
       " 1819.48,\n",
       " 1818.55,\n",
       " 1784.13,\n",
       " 1775.33,\n",
       " 1781.77,\n",
       " 1760.06,\n",
       " 1767.77,\n",
       " 1763.0,\n",
       " 1747.9,\n",
       " 1731.01,\n",
       " 1739.37,\n",
       " 1723.5,\n",
       " 1732.38,\n",
       " 1738.85,\n",
       " 1776.09,\n",
       " 1758.72,\n",
       " 1739.52,\n",
       " 1751.88,\n",
       " 1728.24,\n",
       " 1740.92,\n",
       " 1735.29,\n",
       " 1787.25,\n",
       " 1807.21,\n",
       " 1766.72,\n",
       " 1746.55,\n",
       " 1754.4,\n",
       " 1740.18,\n",
       " 1736.19,\n",
       " 1790.86,\n",
       " 1886.9,\n",
       " 1891.25,\n",
       " 1901.05,\n",
       " 1899.4,\n",
       " 1917.24,\n",
       " 1830.79,\n",
       " 1863.11,\n",
       " 1835.74,\n",
       " 1901.35,\n",
       " 1927.51]"
      ]
     },
     "execution_count": 53,
     "metadata": {},
     "output_type": "execute_result"
    }
   ],
   "source": [
    "#Outlier detection\n",
    "\n",
    "outlier=[]                        #Initializes an empty list called 'outlier' to store the potential outliers.    \n",
    "for x in df['close']:               #Iterates over each value in the 'Age' column.\n",
    "    if((x>up_lim) or(x<low_lim)): #Checks if the value, denoted by x, is greater than the upper limit (up_lim) or less than the lower limit (low_lim)\n",
    "        outlier.append(x)         #if the condition is met, the value x is appended to the 'outlier' list.\n",
    "outlier"
   ]
  },
  {
   "cell_type": "code",
   "execution_count": 54,
   "id": "45b0ce45",
   "metadata": {},
   "outputs": [
    {
     "data": {
      "text/plain": [
       "DatetimeIndex([], dtype='datetime64[ns]', name='date', freq=None)"
      ]
     },
     "execution_count": 54,
     "metadata": {},
     "output_type": "execute_result"
    }
   ],
   "source": [
    "ind=df['close']<low_lim\n",
    "df.loc[ind].index"
   ]
  },
  {
   "cell_type": "code",
   "execution_count": 55,
   "id": "09c3f328",
   "metadata": {},
   "outputs": [
    {
     "data": {
      "text/plain": [
       "DatetimeIndex(['2020-08-24', '2020-08-25', '2020-08-26', '2020-08-27',\n",
       "               '2020-08-28', '2020-08-31', '2020-09-01', '2020-09-02',\n",
       "               '2020-09-03', '2020-09-04', '2020-10-21', '2020-10-22',\n",
       "               '2020-10-23', '2020-10-26', '2020-10-27', '2020-10-30',\n",
       "               '2020-11-02', '2020-11-03', '2020-11-04', '2020-11-05',\n",
       "               '2020-11-06', '2020-11-09', '2020-11-10', '2020-11-11',\n",
       "               '2020-11-12', '2020-11-13', '2020-11-16', '2020-11-17',\n",
       "               '2020-11-18', '2020-11-19', '2020-11-20', '2020-11-23',\n",
       "               '2020-11-24', '2020-11-25', '2020-11-27', '2020-11-30',\n",
       "               '2020-12-01', '2020-12-02', '2020-12-03', '2020-12-04',\n",
       "               '2020-12-07', '2020-12-08', '2020-12-09', '2020-12-10',\n",
       "               '2020-12-11', '2020-12-14', '2020-12-15', '2020-12-16',\n",
       "               '2020-12-17', '2020-12-18', '2020-12-21', '2020-12-22',\n",
       "               '2020-12-23', '2020-12-24', '2020-12-28', '2020-12-29',\n",
       "               '2020-12-30', '2020-12-31', '2021-01-04', '2021-01-05',\n",
       "               '2021-01-06', '2021-01-07', '2021-01-08', '2021-01-11',\n",
       "               '2021-01-12', '2021-01-13', '2021-01-14', '2021-01-15',\n",
       "               '2021-01-19', '2021-01-20', '2021-01-21', '2021-01-22',\n",
       "               '2021-01-25', '2021-01-26', '2021-01-27', '2021-01-28',\n",
       "               '2021-01-29', '2021-02-01', '2021-02-02'],\n",
       "              dtype='datetime64[ns]', name='date', freq=None)"
      ]
     },
     "execution_count": 55,
     "metadata": {},
     "output_type": "execute_result"
    }
   ],
   "source": [
    "ind1=df['close']>up_lim\n",
    "df.loc[ind1].index"
   ]
  },
  {
   "cell_type": "code",
   "execution_count": 56,
   "id": "972e5cd7",
   "metadata": {},
   "outputs": [
    {
     "name": "stdout",
     "output_type": "stream",
     "text": [
      "DatetimeIndex(['2020-08-24', '2020-08-25', '2020-08-26', '2020-08-27',\n",
      "               '2020-08-28', '2020-08-31', '2020-09-01', '2020-09-02',\n",
      "               '2020-09-03', '2020-09-04', '2020-10-21', '2020-10-22',\n",
      "               '2020-10-23', '2020-10-26', '2020-10-27', '2020-10-30',\n",
      "               '2020-11-02', '2020-11-03', '2020-11-04', '2020-11-05',\n",
      "               '2020-11-06', '2020-11-09', '2020-11-10', '2020-11-11',\n",
      "               '2020-11-12', '2020-11-13', '2020-11-16', '2020-11-17',\n",
      "               '2020-11-18', '2020-11-19', '2020-11-20', '2020-11-23',\n",
      "               '2020-11-24', '2020-11-25', '2020-11-27', '2020-11-30',\n",
      "               '2020-12-01', '2020-12-02', '2020-12-03', '2020-12-04',\n",
      "               '2020-12-07', '2020-12-08', '2020-12-09', '2020-12-10',\n",
      "               '2020-12-11', '2020-12-14', '2020-12-15', '2020-12-16',\n",
      "               '2020-12-17', '2020-12-18', '2020-12-21', '2020-12-22',\n",
      "               '2020-12-23', '2020-12-24', '2020-12-28', '2020-12-29',\n",
      "               '2020-12-30', '2020-12-31', '2021-01-04', '2021-01-05',\n",
      "               '2021-01-06', '2021-01-07', '2021-01-08', '2021-01-11',\n",
      "               '2021-01-12', '2021-01-13', '2021-01-14', '2021-01-15',\n",
      "               '2021-01-19', '2021-01-20', '2021-01-21', '2021-01-22',\n",
      "               '2021-01-25', '2021-01-26', '2021-01-27', '2021-01-28',\n",
      "               '2021-01-29', '2021-02-01', '2021-02-02'],\n",
      "              dtype='datetime64[ns]', name='date', freq=None)\n"
     ]
    }
   ],
   "source": [
    "condition = (df['close'] < low_lim) | (df['close'] > up_lim)\n",
    "outlier_indices = df[condition].index\n",
    "print(outlier_indices)"
   ]
  },
  {
   "cell_type": "code",
   "execution_count": 57,
   "id": "238bc18b",
   "metadata": {},
   "outputs": [],
   "source": [
    "df.drop(['2020-08-24', '2020-08-25', '2020-08-26', '2020-08-27',\n",
    "               '2020-08-28', '2020-08-31', '2020-09-01', '2020-09-02',\n",
    "               '2020-09-03', '2020-09-04', '2020-10-21', '2020-10-22',\n",
    "               '2020-10-23', '2020-10-26', '2020-10-27', '2020-10-30',\n",
    "               '2020-11-02', '2020-11-03', '2020-11-04', '2020-11-05',\n",
    "               '2020-11-06', '2020-11-09', '2020-11-10', '2020-11-11',\n",
    "               '2020-11-12', '2020-11-13', '2020-11-16', '2020-11-17',\n",
    "               '2020-11-18', '2020-11-19', '2020-11-20', '2020-11-23',\n",
    "               '2020-11-24', '2020-11-25', '2020-11-27', '2020-11-30',\n",
    "               '2020-12-01', '2020-12-02', '2020-12-03', '2020-12-04',\n",
    "               '2020-12-07', '2020-12-08', '2020-12-09', '2020-12-10',\n",
    "               '2020-12-11', '2020-12-14', '2020-12-15', '2020-12-16',\n",
    "               '2020-12-17', '2020-12-18', '2020-12-21', '2020-12-22',\n",
    "               '2020-12-23', '2020-12-24', '2020-12-28', '2020-12-29',\n",
    "               '2020-12-30', '2020-12-31', '2021-01-04', '2021-01-05',\n",
    "               '2021-01-06', '2021-01-07', '2021-01-08', '2021-01-11',\n",
    "               '2021-01-12', '2021-01-13', '2021-01-14', '2021-01-15',\n",
    "               '2021-01-19', '2021-01-20', '2021-01-21', '2021-01-22',\n",
    "               '2021-01-25', '2021-01-26', '2021-01-27', '2021-01-28',\n",
    "               '2021-01-29', '2021-02-01', '2021-02-02'],inplace=True)"
   ]
  },
  {
   "cell_type": "code",
   "execution_count": 58,
   "id": "0d751e0a",
   "metadata": {
    "scrolled": true
   },
   "outputs": [
    {
     "data": {
      "text/plain": [
       "{'whiskers': [<matplotlib.lines.Line2D at 0x11542cce040>,\n",
       "  <matplotlib.lines.Line2D at 0x11542cce340>],\n",
       " 'caps': [<matplotlib.lines.Line2D at 0x11542cce610>,\n",
       "  <matplotlib.lines.Line2D at 0x11542cce8e0>],\n",
       " 'boxes': [<matplotlib.lines.Line2D at 0x11542cbfe50>],\n",
       " 'medians': [<matplotlib.lines.Line2D at 0x11542ccebb0>],\n",
       " 'fliers': [<matplotlib.lines.Line2D at 0x11542ccee80>],\n",
       " 'means': []}"
      ]
     },
     "execution_count": 58,
     "metadata": {},
     "output_type": "execute_result"
    },
    {
     "data": {
      "image/png": "[encoded data removed]",
      "text/plain": [
       "<Figure size 432x288 with 1 Axes>"
      ]
     },
     "metadata": {
      "needs_background": "light"
     },
     "output_type": "display_data"
    }
   ],
   "source": [
    "\n",
    "plt.boxplot(df['close'])\n"
   ]
  },
  {
   "cell_type": "markdown",
   "id": "1390294d",
   "metadata": {},
   "source": [
    "Removed all the outliers"
   ]
  },
  {
   "cell_type": "code",
   "execution_count": 59,
   "id": "428c9998",
   "metadata": {},
   "outputs": [
    {
     "data": {
      "image/png": "[encoded data removed]",
      "text/plain": [
       "<Figure size 576x432 with 1 Axes>"
      ]
     },
     "metadata": {
      "needs_background": "light"
     },
     "output_type": "display_data"
    }
   ],
   "source": [
    "# Create a boxplot to visualize the distribution of the 'open' price\n",
    "plt.figure(figsize=(8, 6))\n",
    "plt.boxplot(df['open'])\n",
    "plt.xlabel('open Price')\n",
    "plt.ylabel('Price')\n",
    "plt.title('Boxplot of google Stock open Price')\n",
    "plt.show()"
   ]
  },
  {
   "cell_type": "markdown",
   "id": "b25cf33d",
   "metadata": {},
   "source": [
    "There are no outliers"
   ]
  },
  {
   "cell_type": "markdown",
   "id": "f2672276",
   "metadata": {},
   "source": [
    "## 3.Feature engineering"
   ]
  },
  {
   "cell_type": "code",
   "execution_count": 78,
   "id": "6752e8b2",
   "metadata": {},
   "outputs": [],
   "source": [
    "from sklearn.preprocessing import MinMaxScaler\n",
    "# Normalize the data using MinMaxScaler\n",
    "scaler = MinMaxScaler()\n",
    "train_seq_normalized = scaler.fit_transform(train_seq.reshape(-1, 1))\n",
    "train_label_normalized = scaler.transform(train_label.reshape(-1, 1))"
   ]
  },
  {
   "cell_type": "code",
   "execution_count": 79,
   "id": "6707b471",
   "metadata": {},
   "outputs": [
    {
     "data": {
      "text/plain": [
       "(1089, 2)"
      ]
     },
     "execution_count": 79,
     "metadata": {},
     "output_type": "execute_result"
    }
   ],
   "source": [
    "df.shape"
   ]
  },
  {
   "cell_type": "markdown",
   "id": "875a1cd0",
   "metadata": {},
   "source": [
    "## 4.Train-Test Split"
   ]
  },
  {
   "cell_type": "code",
   "execution_count": 80,
   "id": "59692393",
   "metadata": {},
   "outputs": [],
   "source": [
    "\n",
    "# Reshape the sequences and labels for LSTM input\n",
    "train_seq_normalized = train_seq_normalized.reshape(-1, 50, 1)\n",
    "train_label_normalized = train_label_normalized.reshape(-1, 1)\n"
   ]
  },
  {
   "cell_type": "markdown",
   "id": "536f76b4",
   "metadata": {},
   "source": [
    "## 5.Build and Train LSTM Model Make Predictions"
   ]
  },
  {
   "cell_type": "code",
   "execution_count": 70,
   "id": "e95d64ba",
   "metadata": {},
   "outputs": [],
   "source": [
    "from keras.models import Sequential\n",
    "from keras.layers import Dense, Dropout, LSTM, Bidirectional"
   ]
  },
  {
   "cell_type": "code",
   "execution_count": 81,
   "id": "c6b85692",
   "metadata": {},
   "outputs": [],
   "source": [
    "# Build the LSTM model\n",
    "model = Sequential()\n",
    "model.add(LSTM(64, input_shape=(50, 1)))\n",
    "model.add(Dense(1))\n",
    "model.compile(optimizer='adam', loss='mean_squared_error')\n",
    "\n"
   ]
  },
  {
   "cell_type": "code",
   "execution_count": 82,
   "id": "b81f7f2e",
   "metadata": {},
   "outputs": [
    {
     "name": "stdout",
     "output_type": "stream",
     "text": [
      "Epoch 1/10\n",
      "103/103 [==============================] - 5s 22ms/step - loss: 0.0273\n",
      "Epoch 2/10\n",
      "103/103 [==============================] - 2s 22ms/step - loss: 0.0052\n",
      "Epoch 3/10\n",
      "103/103 [==============================] - 2s 23ms/step - loss: 0.0051\n",
      "Epoch 4/10\n",
      "103/103 [==============================] - 2s 22ms/step - loss: 0.0048\n",
      "Epoch 5/10\n",
      "103/103 [==============================] - 2s 22ms/step - loss: 0.0047\n",
      "Epoch 6/10\n",
      "103/103 [==============================] - 2s 22ms/step - loss: 0.0049\n",
      "Epoch 7/10\n",
      "103/103 [==============================] - 2s 21ms/step - loss: 0.0047\n",
      "Epoch 8/10\n",
      "103/103 [==============================] - 3s 24ms/step - loss: 0.0047\n",
      "Epoch 9/10\n",
      "103/103 [==============================] - 2s 24ms/step - loss: 0.0047\n",
      "Epoch 10/10\n",
      "103/103 [==============================] - 2s 24ms/step - loss: 0.0046\n"
     ]
    },
    {
     "data": {
      "text/plain": [
       "<keras.src.callbacks.History at 0x11546536970>"
      ]
     },
     "execution_count": 82,
     "metadata": {},
     "output_type": "execute_result"
    }
   ],
   "source": [
    "# Train the LSTM model\n",
    "model.fit(train_seq_normalized, train_label_normalized, epochs=10, batch_size=16)"
   ]
  },
  {
   "cell_type": "code",
   "execution_count": 73,
   "id": "aacc83c9",
   "metadata": {},
   "outputs": [
    {
     "name": "stdout",
     "output_type": "stream",
     "text": [
      "6/6 [==============================] - 1s 20ms/step\n"
     ]
    },
    {
     "data": {
      "text/plain": [
       "array([[0.88068354, 0.8793248 ],\n",
       "       [0.8987306 , 0.89748716],\n",
       "       [0.9087331 , 0.90733135],\n",
       "       [0.9068419 , 0.90513164],\n",
       "       [0.9045853 , 0.90271485]], dtype=float32)"
      ]
     },
     "execution_count": 73,
     "metadata": {},
     "output_type": "execute_result"
    }
   ],
   "source": [
    "test_predicted = model.predict(test_seq)\n",
    "test_predicted[:5]"
   ]
  },
  {
   "cell_type": "code",
   "execution_count": 74,
   "id": "4316a5ea",
   "metadata": {},
   "outputs": [
    {
     "data": {
      "text/plain": [
       "array([[1477.6973, 1471.5144],\n",
       "       [1494.2283, 1488.1056],\n",
       "       [1503.3904, 1497.0981],\n",
       "       [1501.6581, 1495.0887],\n",
       "       [1499.5911, 1492.881 ]], dtype=float32)"
      ]
     },
     "execution_count": 74,
     "metadata": {},
     "output_type": "execute_result"
    }
   ],
   "source": [
    "test_inverse_predicted = MMS.inverse_transform(test_predicted) # Inversing scaling on predicted data\n",
    "test_inverse_predicted[:5]"
   ]
  },
  {
   "cell_type": "markdown",
   "id": "aa92ab6c",
   "metadata": {},
   "source": [
    "## 6.Evaluate the Model"
   ]
  },
  {
   "cell_type": "code",
   "execution_count": 85,
   "id": "c57327af",
   "metadata": {},
   "outputs": [],
   "source": [
    "from sklearn.metrics import mean_squared_error, mean_absolute_error"
   ]
  },
  {
   "cell_type": "code",
   "execution_count": 87,
   "id": "8b134807",
   "metadata": {},
   "outputs": [
    {
     "name": "stdout",
     "output_type": "stream",
     "text": [
      "11/11 [==============================] - 0s 14ms/step\n",
      "       Actual  Predicted\n",
      "0    0.669846   0.727108\n",
      "1    0.671456   0.821238\n",
      "2    0.671973   0.731884\n",
      "3    0.679029   0.830840\n",
      "4    0.670547   0.742045\n",
      "..        ...        ...\n",
      "331  0.709114   0.885995\n",
      "332  0.708031   0.867984\n",
      "333  0.677711   0.881880\n",
      "334  0.678251   0.868157\n",
      "335  0.718149   0.877906\n",
      "\n",
      "[336 rows x 2 columns]\n"
     ]
    }
   ],
   "source": [
    "\n",
    "# Make predictions on the test data\n",
    "test_seq_normalized = scaler.transform(test_seq.reshape(-1, 1))\n",
    "test_seq_normalized = test_seq_normalized.reshape(-1, 50, 1)\n",
    "predicted_values_normalized = model.predict(test_seq_normalized)\n",
    "\n",
    "# Inverse transform the normalized predictions to get the actual values\n",
    "predicted_values = scaler.inverse_transform(predicted_values_normalized).flatten()\n",
    "\n",
    "# Inverse transform the test_label to get the actual target values for comparison\n",
    "actual_values = scaler.inverse_transform(test_label.reshape(-1, 1)).flatten()\n",
    "\n",
    "# Display the actual and predicted values\n",
    "results = pd.DataFrame({'Actual': actual_values, 'Predicted': predicted_values})\n",
    "print(results)\n"
   ]
  },
  {
   "cell_type": "code",
   "execution_count": 90,
   "id": "0e63b1d6",
   "metadata": {},
   "outputs": [
    {
     "name": "stdout",
     "output_type": "stream",
     "text": [
      "Mean Squared Error (MSE): 0.04\n",
      "Mean Absolute Error (MAE): 0.18\n",
      "Root Mean Squared Error (RMSE): 0.20\n"
     ]
    }
   ],
   "source": [
    "\n",
    "\n",
    "# Assuming you have the 'Actual' and 'Predicted' columns in a DataFrame named 'results'\n",
    "actual_values = results['Actual']\n",
    "predicted_values = results['Predicted']\n",
    "\n",
    "# Calculate Mean Squared Error (MSE)\n",
    "mse = mean_squared_error(actual_values, predicted_values)\n",
    "\n",
    "# Calculate Mean Absolute Error (MAE)\n",
    "mae = mean_absolute_error(actual_values, predicted_values)\n",
    "\n",
    "# Calculate Root Mean Squared Error (RMSE)\n",
    "rmse = np.sqrt(mse)\n",
    "\n",
    "print(f\"Mean Squared Error (MSE): {mse:.2f}\")\n",
    "print(f\"Mean Absolute Error (MAE): {mae:.2f}\")\n",
    "print(f\"Root Mean Squared Error (RMSE): {rmse:.2f}\")\n"
   ]
  },
  {
   "cell_type": "code",
   "execution_count": 93,
   "id": "f3d51880",
   "metadata": {
    "scrolled": true
   },
   "outputs": [
    {
     "data": {
      "image/png": "[encoded data removed]",
      "text/plain": [
       "<Figure size 864x648 with 1 Axes>"
      ]
     },
     "metadata": {
      "needs_background": "light"
     },
     "output_type": "display_data"
    }
   ],
   "source": [
    "# Plot the actual and predicted values\n",
    "plt.figure(figsize=(12, 9))\n",
    "plt.plot(results.index, results['Actual'], label='Actual', color='blue')\n",
    "plt.plot(results.index, results['Predicted'], label='Predicted', color='red')\n",
    "plt.xlabel('Date')\n",
    "plt.ylabel('Stock Price')\n",
    "plt.title('Actual vs. Predicted Stock Prices')\n",
    "plt.legend()\n",
    "plt.show()\n"
   ]
  },
  {
   "cell_type": "code",
   "execution_count": 107,
   "id": "cd9fb208",
   "metadata": {},
   "outputs": [],
   "source": [
    "# Create a DataFrame to store the predicted values along with the date index\n",
    "predicted_df = pd.DataFrame({'Open_Predicted': test_inverse_predicted[:, 0], 'Close_Predicted': test_inverse_predicted[:, 1]}, index=df.iloc[-len(test_inverse_predicted):].index)\n",
    "\n",
    "# Merge the actual and predicted DataFrames\n",
    "merged_df = pd.concat([df.iloc[-len(test_inverse_predicted):], predicted_df], axis=1)\n"
   ]
  },
  {
   "cell_type": "code",
   "execution_count": 109,
   "id": "0a8aecd6",
   "metadata": {
    "scrolled": true
   },
   "outputs": [
    {
     "data": {
      "image/png": "[encoded data removed]",
      "text/plain": [
       "<Figure size 864x432 with 1 Axes>"
      ]
     },
     "metadata": {
      "needs_background": "light"
     },
     "output_type": "display_data"
    }
   ],
   "source": [
    "\n",
    "# Plotting the 'Open' prices\n",
    "plt.figure(figsize=(12, 6))\n",
    "plt.plot(merged_df.index, merged_df['open'], label='Actual Open', color='blue')\n",
    "plt.plot(merged_df.index, merged_df['Open_Predicted'], label='Predicted Open', color='red', linestyle='dashed')\n",
    "plt.xlabel('Date')\n",
    "plt.ylabel('Stock Price')\n",
    "plt.title('Actual vs. Predicted Open Prices')\n",
    "plt.legend()\n",
    "plt.show()"
   ]
  },
  {
   "cell_type": "markdown",
   "id": "ce5fd3cd",
   "metadata": {},
   "source": [
    "## 6.Interpretation and conclusion\n",
    "\n",
    "Mean Squared Error (MSE): MSE measures the average squared difference between the actual and predicted values. In this case, the MSE is 0.04, which means that, on average, the squared difference between the actual and predicted values is 0.04. A lower MSE indicates that the model's predictions are closer to the actual values.\n",
    "\n",
    "Mean Absolute Error (MAE): MAE measures the average absolute difference between the actual and predicted values. In this case, the MAE is 0.18, which means that, on average, the absolute difference between the actual and predicted values is 0.18. A lower MAE indicates that the model's predictions are closer to the actual values.\n",
    "\n",
    "Root Mean Squared Error (RMSE): RMSE is the square root of the MSE and is often used to interpret the error in the same units as the target variable. In this case, the RMSE is 0.20, which means that, on average, the error between the actual and predicted values is 0.20. A lower RMSE indicates that the model's predictions are closer to the actual values.\n",
    "\n",
    "\n",
    "In **conclusion**, the LSTM model used for Google stock price prediction shows promising results. The model was trained on historical stock price data and was able to make predictions for future stock prices. The evaluation metrics, including Mean Squared Error (MSE), Mean Absolute Error (MAE), and Root Mean Squared Error (RMSE), indicate that the model's predictions are relatively close to the actual stock prices.\n",
    "\n",
    "The LSTM model leverages its ability to capture long-term dependencies in sequential data, making it suitable for time-series forecasting tasks like stock price prediction. By learning from the historical patterns and trends in the data, the model can make reasonably accurate predictions for future stock prices."
   ]
  }
 ],
 "metadata": {
  "kernelspec": {
   "display_name": "Python 3 (ipykernel)",
   "language": "python",
   "name": "python3"
  },
  "language_info": {
   "codemirror_mode": {
    "name": "ipython",
    "version": 3
   },
   "file_extension": ".py",
   "mimetype": "text/x-python",
   "name": "python",
   "nbconvert_exporter": "python",
   "pygments_lexer": "ipython3",
   "version": "3.9.12"
  }
 },
 "nbformat": 4,
 "nbformat_minor": 5
}
